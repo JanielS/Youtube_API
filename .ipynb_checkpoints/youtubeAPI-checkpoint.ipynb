{
 "cells": [
  {
   "cell_type": "markdown",
   "id": "531e80b8-6bd9-42cc-90ce-e205384fed42",
   "metadata": {},
   "source": [
    "### 1. Import Library"
   ]
  },
  {
   "cell_type": "code",
   "execution_count": 1,
   "id": "ac088505-e48d-4a77-a376-d8a436883563",
   "metadata": {},
   "outputs": [],
   "source": [
    "from googleapiclient.discovery import build\n",
    "import pandas as pd\n",
    "from IPython.display import JSON\n",
    "\n",
    "# Connected Database\n",
    "import pandas as pd\n",
    "from sqlalchemy import create_engine\n",
    "from getpass import getpass  # Não exibir a senha\n",
    "\n",
    "%load_ext sql   "
   ]
  },
  {
   "cell_type": "markdown",
   "id": "8fd9393b-10e8-4cef-b048-3c45b7af4153",
   "metadata": {},
   "source": [
    "### 2. Sttings API keys and Start Youtube"
   ]
  },
  {
   "cell_type": "code",
   "execution_count": 2,
   "id": "269c24cc-1d66-43e0-ab26-de5786560b05",
   "metadata": {},
   "outputs": [
    {
     "name": "stdin",
     "output_type": "stream",
     "text": [
      " ········\n"
     ]
    }
   ],
   "source": [
    "api_key = getpass()\n",
    "api_service_name = \"youtube\"\n",
    "api_version = \"v3\"\n",
    "\n",
    "# Defined Charnnels\n",
    "charnnel_ids = ['UC8mDF5mWNGE-Kpfcvnn0bUg',  #  Me poupe!\n",
    "                'UCnBNoed6NaPlpL8blj1yy8Q',  # Clube do valor\n",
    "                'UC_mSfchV-fgpPy-vuwML8_A',  # Gustavo Cerbasi\n",
    "               ]\n",
    "\n",
    "# Get credentials and create an API client\n",
    "youtube = build(\n",
    "    api_service_name, api_version, developerKey=api_key)"
   ]
  },
  {
   "cell_type": "markdown",
   "id": "f71bdc2c-f72f-47a3-8cf6-484c64af1c60",
   "metadata": {},
   "source": [
    "### 3. Get charnnel Statistic"
   ]
  },
  {
   "cell_type": "code",
   "execution_count": 3,
   "id": "81a95cf8-53c7-4b2b-9ccc-0f5416fca3a2",
   "metadata": {},
   "outputs": [],
   "source": [
    "def charnnel_stats(youtube, charnnel_ids):\n",
    "    '''This function return the statistics of charnnels'''\n",
    "    all_data = []\n",
    "    request = youtube.channels().list(\n",
    "        part=\"snippet,contentDetails,statistics\",\n",
    "        id=\",\".join(charnnel_ids)\n",
    "    )\n",
    "    response = request.execute()\n",
    "\n",
    "    for item in response['items']:\n",
    "        data = {'Charnnel_name': item['snippet']['title'],\n",
    "                'Subscribesrs': item['statistics']['subscriberCount'],\n",
    "                'Viwes': item['statistics']['viewCount'],\n",
    "                'Total_videos': item['statistics']['videoCount'],\n",
    "                'Charnnel_ID': item['id'],\n",
    "                'Playlist_ID': item['contentDetails']['relatedPlaylists']['uploads']\n",
    "                 }\n",
    "        all_data.append(data)\n",
    "        \n",
    "    return pd.DataFrame(all_data)"
   ]
  },
  {
   "cell_type": "code",
   "execution_count": 4,
   "id": "b188bd49-234c-4b73-a7f2-2f464d309468",
   "metadata": {},
   "outputs": [
    {
     "data": {
      "text/html": [
       "<div>\n",
       "<style scoped>\n",
       "    .dataframe tbody tr th:only-of-type {\n",
       "        vertical-align: middle;\n",
       "    }\n",
       "\n",
       "    .dataframe tbody tr th {\n",
       "        vertical-align: top;\n",
       "    }\n",
       "\n",
       "    .dataframe thead th {\n",
       "        text-align: right;\n",
       "    }\n",
       "</style>\n",
       "<table border=\"1\" class=\"dataframe\">\n",
       "  <thead>\n",
       "    <tr style=\"text-align: right;\">\n",
       "      <th></th>\n",
       "      <th>Charnnel_name</th>\n",
       "      <th>Subscribesrs</th>\n",
       "      <th>Viwes</th>\n",
       "      <th>Total_videos</th>\n",
       "      <th>Charnnel_ID</th>\n",
       "      <th>Playlist_ID</th>\n",
       "    </tr>\n",
       "  </thead>\n",
       "  <tbody>\n",
       "    <tr>\n",
       "      <th>0</th>\n",
       "      <td>Me Poupe!</td>\n",
       "      <td>7570000</td>\n",
       "      <td>547282805</td>\n",
       "      <td>1467</td>\n",
       "      <td>UC8mDF5mWNGE-Kpfcvnn0bUg</td>\n",
       "      <td>UU8mDF5mWNGE-Kpfcvnn0bUg</td>\n",
       "    </tr>\n",
       "    <tr>\n",
       "      <th>1</th>\n",
       "      <td>Gustavo Cerbasi</td>\n",
       "      <td>1020000</td>\n",
       "      <td>38634112</td>\n",
       "      <td>857</td>\n",
       "      <td>UC_mSfchV-fgpPy-vuwML8_A</td>\n",
       "      <td>UU_mSfchV-fgpPy-vuwML8_A</td>\n",
       "    </tr>\n",
       "    <tr>\n",
       "      <th>2</th>\n",
       "      <td>Clube do Valor</td>\n",
       "      <td>1040000</td>\n",
       "      <td>54831965</td>\n",
       "      <td>1594</td>\n",
       "      <td>UCnBNoed6NaPlpL8blj1yy8Q</td>\n",
       "      <td>UUnBNoed6NaPlpL8blj1yy8Q</td>\n",
       "    </tr>\n",
       "  </tbody>\n",
       "</table>\n",
       "</div>"
      ],
      "text/plain": [
       "     Charnnel_name Subscribesrs      Viwes Total_videos  \\\n",
       "0        Me Poupe!      7570000  547282805         1467   \n",
       "1  Gustavo Cerbasi      1020000   38634112          857   \n",
       "2   Clube do Valor      1040000   54831965         1594   \n",
       "\n",
       "                Charnnel_ID               Playlist_ID  \n",
       "0  UC8mDF5mWNGE-Kpfcvnn0bUg  UU8mDF5mWNGE-Kpfcvnn0bUg  \n",
       "1  UC_mSfchV-fgpPy-vuwML8_A  UU_mSfchV-fgpPy-vuwML8_A  \n",
       "2  UCnBNoed6NaPlpL8blj1yy8Q  UUnBNoed6NaPlpL8blj1yy8Q  "
      ]
     },
     "execution_count": 4,
     "metadata": {},
     "output_type": "execute_result"
    }
   ],
   "source": [
    "charnnel_df = charnnel_stats(youtube, charnnel_ids)\n",
    "\n",
    "charnnel_df"
   ]
  },
  {
   "cell_type": "markdown",
   "id": "f9db667a-9757-4da6-a909-1fb382e1a9c0",
   "metadata": {},
   "source": [
    "### 4. Get videos IDs"
   ]
  },
  {
   "cell_type": "code",
   "execution_count": 5,
   "id": "29afcdb4-56ff-44c5-8d3c-f841930cc8d7",
   "metadata": {},
   "outputs": [],
   "source": [
    "def get_videos_ids(youtube, playlist_id):\n",
    "    '''This function returns all IDs of videos in the playlist.'''\n",
    "    def fetch_page(playlist_id, page_token=None):\n",
    "        request = youtube.playlistItems().list(\n",
    "            part=\"snippet,contentDetails\",\n",
    "            playlistId=playlist_id,\n",
    "            maxResults=50,\n",
    "            pageToken=page_token\n",
    "        )\n",
    "        return request.execute()\n",
    "    \n",
    "    all_videos_id = []\n",
    "    response = fetch_page(playlist_id)\n",
    "    \n",
    "    while response:\n",
    "        for item in response['items']:\n",
    "            video_id = {\n",
    "                \"Channel_ID\": item['snippet']['channelId'],\n",
    "                \"Video_ID\": item['contentDetails']['videoId']\n",
    "            }\n",
    "            all_videos_id.append(video_id)\n",
    "        \n",
    "        next_page_token = response.get('nextPageToken')\n",
    "        if next_page_token:\n",
    "            response = fetch_page(playlist_id, next_page_token)\n",
    "        else:\n",
    "            break\n",
    "\n",
    "    return all_videos_id"
   ]
  },
  {
   "cell_type": "code",
   "execution_count": 6,
   "id": "3ba9c706-6cab-4600-b81a-0e08971c274d",
   "metadata": {},
   "outputs": [],
   "source": [
    "playlist_ids = list(charnnel_df['Playlist_ID'])"
   ]
  },
  {
   "cell_type": "code",
   "execution_count": 7,
   "id": "4ba27736-baa8-459d-b60c-7b8db7e4c5b3",
   "metadata": {},
   "outputs": [],
   "source": [
    "all_videos_ids = []\n",
    "\n",
    "for playlist_id in playlist_ids:\n",
    "    videos_id = get_videos_ids(youtube, playlist_id)\n",
    "    all_videos_ids.extend(videos_id)  \n",
    "\n",
    "videos_df = pd.DataFrame(all_videos_ids)"
   ]
  },
  {
   "cell_type": "code",
   "execution_count": 8,
   "id": "e16c0730-e1d6-4102-8d60-53be39352c72",
   "metadata": {},
   "outputs": [
    {
     "data": {
      "text/html": [
       "<div>\n",
       "<style scoped>\n",
       "    .dataframe tbody tr th:only-of-type {\n",
       "        vertical-align: middle;\n",
       "    }\n",
       "\n",
       "    .dataframe tbody tr th {\n",
       "        vertical-align: top;\n",
       "    }\n",
       "\n",
       "    .dataframe thead th {\n",
       "        text-align: right;\n",
       "    }\n",
       "</style>\n",
       "<table border=\"1\" class=\"dataframe\">\n",
       "  <thead>\n",
       "    <tr style=\"text-align: right;\">\n",
       "      <th></th>\n",
       "      <th>Channel_ID</th>\n",
       "      <th>Video_ID</th>\n",
       "    </tr>\n",
       "  </thead>\n",
       "  <tbody>\n",
       "    <tr>\n",
       "      <th>0</th>\n",
       "      <td>UC8mDF5mWNGE-Kpfcvnn0bUg</td>\n",
       "      <td>Hw7C4-Mh288</td>\n",
       "    </tr>\n",
       "    <tr>\n",
       "      <th>1</th>\n",
       "      <td>UC8mDF5mWNGE-Kpfcvnn0bUg</td>\n",
       "      <td>jMyYQ4zP0Ic</td>\n",
       "    </tr>\n",
       "    <tr>\n",
       "      <th>2</th>\n",
       "      <td>UC8mDF5mWNGE-Kpfcvnn0bUg</td>\n",
       "      <td>XPaHJ_TSqWk</td>\n",
       "    </tr>\n",
       "    <tr>\n",
       "      <th>3</th>\n",
       "      <td>UC8mDF5mWNGE-Kpfcvnn0bUg</td>\n",
       "      <td>7IsiwsXPwMQ</td>\n",
       "    </tr>\n",
       "    <tr>\n",
       "      <th>4</th>\n",
       "      <td>UC8mDF5mWNGE-Kpfcvnn0bUg</td>\n",
       "      <td>RIwmvirAKkY</td>\n",
       "    </tr>\n",
       "  </tbody>\n",
       "</table>\n",
       "</div>"
      ],
      "text/plain": [
       "                 Channel_ID     Video_ID\n",
       "0  UC8mDF5mWNGE-Kpfcvnn0bUg  Hw7C4-Mh288\n",
       "1  UC8mDF5mWNGE-Kpfcvnn0bUg  jMyYQ4zP0Ic\n",
       "2  UC8mDF5mWNGE-Kpfcvnn0bUg  XPaHJ_TSqWk\n",
       "3  UC8mDF5mWNGE-Kpfcvnn0bUg  7IsiwsXPwMQ\n",
       "4  UC8mDF5mWNGE-Kpfcvnn0bUg  RIwmvirAKkY"
      ]
     },
     "execution_count": 8,
     "metadata": {},
     "output_type": "execute_result"
    }
   ],
   "source": [
    "videos_df.head()"
   ]
  },
  {
   "cell_type": "markdown",
   "id": "13afdbbc-dfbe-404b-9b00-2f1df2216799",
   "metadata": {},
   "source": [
    "### 5. Get videos Statistics"
   ]
  },
  {
   "cell_type": "code",
   "execution_count": 9,
   "id": "37406e47-096b-4732-9deb-64c926063442",
   "metadata": {},
   "outputs": [
    {
     "data": {
      "text/plain": [
       "5"
      ]
     },
     "execution_count": 9,
     "metadata": {},
     "output_type": "execute_result"
    }
   ],
   "source": [
    "videos_ids = list(videos_df['Video_ID'][:5])\n",
    "\n",
    "len(videos_ids)"
   ]
  },
  {
   "cell_type": "code",
   "execution_count": 10,
   "id": "430faaad-0719-4d79-952d-c1d264230f69",
   "metadata": {},
   "outputs": [],
   "source": [
    "def get_video_detail(youtube, video_ids):\n",
    "    \n",
    "    all_video_info = []\n",
    "\n",
    "    for i in range(0, len(video_ids), 50):\n",
    "        request = youtube.videos().list(\n",
    "            part='snippet,contentDetails,statistics',\n",
    "            id= ','.join(videos_ids[i:i+50])\n",
    "        )\n",
    "        response = request.execute()\n",
    "    \n",
    "        for video in response['items']:\n",
    "            stats_to_keep = {'snippet': ['channelId', 'channelTitle','title', 'publishedAt'],\n",
    "                             'statistics': ['viewCount', 'likeCount', 'favoriteCount','commentCount'],\n",
    "                             'contentDetails': ['duration', 'caption']   \n",
    "                            }\n",
    "            video_info = {}\n",
    "            video_info['video_id'] = video['id']\n",
    "            \n",
    "            for k in stats_to_keep.keys():\n",
    "                for v in stats_to_keep[k]:\n",
    "                    try:\n",
    "                        video_info[v] = video[k][v]\n",
    "                    except:\n",
    "                        video_info[v] = None\n",
    "    \n",
    "            all_video_info.append(video_info)\n",
    "\n",
    "    return pd.DataFrame(all_video_info)"
   ]
  },
  {
   "cell_type": "code",
   "execution_count": 11,
   "id": "5ae331ca-70a9-4667-b4e9-c7ff8692ea69",
   "metadata": {},
   "outputs": [],
   "source": [
    "video_info_df = get_video_detail(youtube, videos_ids)"
   ]
  },
  {
   "cell_type": "code",
   "execution_count": 12,
   "id": "78169b55-1479-4798-b772-79bf77515d9a",
   "metadata": {},
   "outputs": [
    {
     "data": {
      "text/html": [
       "<div>\n",
       "<style scoped>\n",
       "    .dataframe tbody tr th:only-of-type {\n",
       "        vertical-align: middle;\n",
       "    }\n",
       "\n",
       "    .dataframe tbody tr th {\n",
       "        vertical-align: top;\n",
       "    }\n",
       "\n",
       "    .dataframe thead th {\n",
       "        text-align: right;\n",
       "    }\n",
       "</style>\n",
       "<table border=\"1\" class=\"dataframe\">\n",
       "  <thead>\n",
       "    <tr style=\"text-align: right;\">\n",
       "      <th></th>\n",
       "      <th>video_id</th>\n",
       "      <th>channelId</th>\n",
       "      <th>channelTitle</th>\n",
       "      <th>title</th>\n",
       "      <th>publishedAt</th>\n",
       "      <th>viewCount</th>\n",
       "      <th>likeCount</th>\n",
       "      <th>favoriteCount</th>\n",
       "      <th>commentCount</th>\n",
       "      <th>duration</th>\n",
       "      <th>caption</th>\n",
       "    </tr>\n",
       "  </thead>\n",
       "  <tbody>\n",
       "    <tr>\n",
       "      <th>0</th>\n",
       "      <td>Hw7C4-Mh288</td>\n",
       "      <td>UC8mDF5mWNGE-Kpfcvnn0bUg</td>\n",
       "      <td>Me Poupe!</td>\n",
       "      <td>INVESTIR DO ZERO: Aulão completo e descomplicado!</td>\n",
       "      <td>2024-05-21T17:16:21Z</td>\n",
       "      <td>120</td>\n",
       "      <td>5929</td>\n",
       "      <td>0</td>\n",
       "      <td>0</td>\n",
       "      <td>P0D</td>\n",
       "      <td>false</td>\n",
       "    </tr>\n",
       "    <tr>\n",
       "      <th>1</th>\n",
       "      <td>jMyYQ4zP0Ic</td>\n",
       "      <td>UC8mDF5mWNGE-Kpfcvnn0bUg</td>\n",
       "      <td>Me Poupe!</td>\n",
       "      <td>Hoje é dia de AULÃO com a NATH para você apren...</td>\n",
       "      <td>2024-06-10T16:00:38Z</td>\n",
       "      <td>5761</td>\n",
       "      <td>605</td>\n",
       "      <td>0</td>\n",
       "      <td>12</td>\n",
       "      <td>PT21S</td>\n",
       "      <td>false</td>\n",
       "    </tr>\n",
       "    <tr>\n",
       "      <th>2</th>\n",
       "      <td>XPaHJ_TSqWk</td>\n",
       "      <td>UC8mDF5mWNGE-Kpfcvnn0bUg</td>\n",
       "      <td>Me Poupe!</td>\n",
       "      <td>Fatura do cartão chegou ai, pessoal...? Dia 20...</td>\n",
       "      <td>2024-06-07T22:05:00Z</td>\n",
       "      <td>6470</td>\n",
       "      <td>326</td>\n",
       "      <td>0</td>\n",
       "      <td>0</td>\n",
       "      <td>PT19S</td>\n",
       "      <td>false</td>\n",
       "    </tr>\n",
       "    <tr>\n",
       "      <th>3</th>\n",
       "      <td>7IsiwsXPwMQ</td>\n",
       "      <td>UC8mDF5mWNGE-Kpfcvnn0bUg</td>\n",
       "      <td>Me Poupe!</td>\n",
       "      <td>Venha para o AULÃO com a NATH e comece a mudar...</td>\n",
       "      <td>2024-06-07T15:00:12Z</td>\n",
       "      <td>7543</td>\n",
       "      <td>960</td>\n",
       "      <td>0</td>\n",
       "      <td>7</td>\n",
       "      <td>PT54S</td>\n",
       "      <td>false</td>\n",
       "    </tr>\n",
       "    <tr>\n",
       "      <th>4</th>\n",
       "      <td>RIwmvirAKkY</td>\n",
       "      <td>UC8mDF5mWNGE-Kpfcvnn0bUg</td>\n",
       "      <td>Me Poupe!</td>\n",
       "      <td>Acredite! Um elástico pode salvar sua vida fin...</td>\n",
       "      <td>2024-06-06T15:00:32Z</td>\n",
       "      <td>20973</td>\n",
       "      <td>1916</td>\n",
       "      <td>0</td>\n",
       "      <td>39</td>\n",
       "      <td>PT53S</td>\n",
       "      <td>false</td>\n",
       "    </tr>\n",
       "  </tbody>\n",
       "</table>\n",
       "</div>"
      ],
      "text/plain": [
       "      video_id                 channelId channelTitle  \\\n",
       "0  Hw7C4-Mh288  UC8mDF5mWNGE-Kpfcvnn0bUg    Me Poupe!   \n",
       "1  jMyYQ4zP0Ic  UC8mDF5mWNGE-Kpfcvnn0bUg    Me Poupe!   \n",
       "2  XPaHJ_TSqWk  UC8mDF5mWNGE-Kpfcvnn0bUg    Me Poupe!   \n",
       "3  7IsiwsXPwMQ  UC8mDF5mWNGE-Kpfcvnn0bUg    Me Poupe!   \n",
       "4  RIwmvirAKkY  UC8mDF5mWNGE-Kpfcvnn0bUg    Me Poupe!   \n",
       "\n",
       "                                               title           publishedAt  \\\n",
       "0  INVESTIR DO ZERO: Aulão completo e descomplicado!  2024-05-21T17:16:21Z   \n",
       "1  Hoje é dia de AULÃO com a NATH para você apren...  2024-06-10T16:00:38Z   \n",
       "2  Fatura do cartão chegou ai, pessoal...? Dia 20...  2024-06-07T22:05:00Z   \n",
       "3  Venha para o AULÃO com a NATH e comece a mudar...  2024-06-07T15:00:12Z   \n",
       "4  Acredite! Um elástico pode salvar sua vida fin...  2024-06-06T15:00:32Z   \n",
       "\n",
       "  viewCount likeCount favoriteCount commentCount duration caption  \n",
       "0       120      5929             0            0      P0D   false  \n",
       "1      5761       605             0           12    PT21S   false  \n",
       "2      6470       326             0            0    PT19S   false  \n",
       "3      7543       960             0            7    PT54S   false  \n",
       "4     20973      1916             0           39    PT53S   false  "
      ]
     },
     "execution_count": 12,
     "metadata": {},
     "output_type": "execute_result"
    }
   ],
   "source": [
    "video_info_df.head()"
   ]
  },
  {
   "cell_type": "markdown",
   "id": "b6093818-fc6f-4dff-aa40-92ce50efb8af",
   "metadata": {},
   "source": [
    "### 6. Exploratory Data Analisys"
   ]
  },
  {
   "cell_type": "code",
   "execution_count": null,
   "id": "f841ca33-3a9b-40c6-b165-dbd34444e665",
   "metadata": {},
   "outputs": [],
   "source": []
  },
  {
   "cell_type": "code",
   "execution_count": null,
   "id": "f2f69511-2c78-451f-ac50-5f2463cb060e",
   "metadata": {},
   "outputs": [],
   "source": []
  },
  {
   "cell_type": "code",
   "execution_count": null,
   "id": "7b026f61-538e-402f-a752-1cab81143e3e",
   "metadata": {},
   "outputs": [],
   "source": []
  },
  {
   "cell_type": "markdown",
   "id": "0f4bad53-fab6-4ef2-ad79-c8f04900cc1b",
   "metadata": {},
   "source": [
    "### 7. Connect DataBase"
   ]
  },
  {
   "cell_type": "code",
   "execution_count": null,
   "id": "94e8fae5-5075-4a12-9d22-1ad6f5526537",
   "metadata": {},
   "outputs": [],
   "source": []
  },
  {
   "cell_type": "code",
   "execution_count": null,
   "id": "bc83fe2e-cd7d-48d8-9870-efbbeb7f1872",
   "metadata": {},
   "outputs": [],
   "source": []
  },
  {
   "cell_type": "code",
   "execution_count": null,
   "id": "3d69c1c3-f363-4e5c-b563-9fe089233466",
   "metadata": {},
   "outputs": [],
   "source": []
  }
 ],
 "metadata": {
  "kernelspec": {
   "display_name": "Python 3 (ipykernel)",
   "language": "python",
   "name": "python3"
  },
  "language_info": {
   "codemirror_mode": {
    "name": "ipython",
    "version": 3
   },
   "file_extension": ".py",
   "mimetype": "text/x-python",
   "name": "python",
   "nbconvert_exporter": "python",
   "pygments_lexer": "ipython3",
   "version": "3.11.9"
  }
 },
 "nbformat": 4,
 "nbformat_minor": 5
}
