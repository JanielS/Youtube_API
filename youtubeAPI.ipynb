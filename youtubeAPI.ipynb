{
 "cells": [
  {
   "cell_type": "markdown",
   "id": "531e80b8-6bd9-42cc-90ce-e205384fed42",
   "metadata": {},
   "source": [
    "### 1. Import Library"
   ]
  },
  {
   "cell_type": "code",
   "execution_count": 1,
   "id": "ac088505-e48d-4a77-a376-d8a436883563",
   "metadata": {},
   "outputs": [],
   "source": [
    "from googleapiclient.discovery import build\n",
    "import pandas as pd\n",
    "from IPython.display import JSON\n",
    "import numpy as np\n",
    "\n",
    "# Connected Database\n",
    "from sqlalchemy import create_engine\n",
    "from getpass import getpass  # Não exibir a senha\n",
    "\n",
    "# Vizualise data \n",
    "import seaborn as sns \n",
    "import matplotlib.pyplot as plt\n",
    "%matplotlib inline\n",
    "\n",
    "# view settings\n",
    "sns.set_style('darkgrid')\n",
    "plt.rcParams['font.size'] = 12\n",
    "plt.rcParams['figure.figsize'] = (8, 5)\n",
    "\n",
    "%load_ext sql   "
   ]
  },
  {
   "cell_type": "markdown",
   "id": "8fd9393b-10e8-4cef-b048-3c45b7af4153",
   "metadata": {},
   "source": [
    "### 2. Sttings API keys and Start Youtube"
   ]
  },
  {
   "cell_type": "code",
   "execution_count": 2,
   "id": "269c24cc-1d66-43e0-ab26-de5786560b05",
   "metadata": {},
   "outputs": [
    {
     "name": "stdout",
     "output_type": "stream",
     "text": [
      " ········\n"
     ]
    }
   ],
   "source": [
    "api_key = getpass()\n",
    "api_service_name = \"youtube\"\n",
    "api_version = \"v3\"\n",
    "\n",
    "# Defined Charnnels\n",
    "charnnel_ids = ['UC8mDF5mWNGE-Kpfcvnn0bUg',  #  Me poupe!\n",
    "                'UCnBNoed6NaPlpL8blj1yy8Q',  # Clube do valor\n",
    "                'UC_mSfchV-fgpPy-vuwML8_A',  # Gustavo Cerbasi\n",
    "               ]\n",
    "\n",
    "# Get credentials and create an API client\n",
    "youtube = build(\n",
    "    api_service_name, api_version, developerKey=api_key)"
   ]
  },
  {
   "cell_type": "markdown",
   "id": "f71bdc2c-f72f-47a3-8cf6-484c64af1c60",
   "metadata": {},
   "source": [
    "### 3. Get charnnel Statistic"
   ]
  },
  {
   "cell_type": "code",
   "execution_count": 3,
   "id": "81a95cf8-53c7-4b2b-9ccc-0f5416fca3a2",
   "metadata": {},
   "outputs": [],
   "source": [
    "def charnnel_stats(youtube, charnnel_ids):\n",
    "    '''This function return the statistics of charnnels'''\n",
    "    all_data = []\n",
    "    request = youtube.channels().list(\n",
    "        part=\"snippet,contentDetails,statistics\",\n",
    "        id=\",\".join(charnnel_ids)\n",
    "    )\n",
    "    response = request.execute()\n",
    "\n",
    "    for item in response['items']:\n",
    "        data = {'Charnnel_name': item['snippet']['title'],\n",
    "                'Subscribesrs': item['statistics']['subscriberCount'],\n",
    "                'Viwes': item['statistics']['viewCount'],\n",
    "                'Total_videos': item['statistics']['videoCount'],\n",
    "                'Charnnel_ID': item['id'],\n",
    "                'Playlist_ID': item['contentDetails']['relatedPlaylists']['uploads']\n",
    "                 }\n",
    "        all_data.append(data)\n",
    "        \n",
    "    return pd.DataFrame(all_data)"
   ]
  },
  {
   "cell_type": "code",
   "execution_count": 4,
   "id": "b188bd49-234c-4b73-a7f2-2f464d309468",
   "metadata": {},
   "outputs": [
    {
     "data": {
      "text/html": [
       "<div>\n",
       "<style scoped>\n",
       "    .dataframe tbody tr th:only-of-type {\n",
       "        vertical-align: middle;\n",
       "    }\n",
       "\n",
       "    .dataframe tbody tr th {\n",
       "        vertical-align: top;\n",
       "    }\n",
       "\n",
       "    .dataframe thead th {\n",
       "        text-align: right;\n",
       "    }\n",
       "</style>\n",
       "<table border=\"1\" class=\"dataframe\">\n",
       "  <thead>\n",
       "    <tr style=\"text-align: right;\">\n",
       "      <th></th>\n",
       "      <th>Charnnel_name</th>\n",
       "      <th>Subscribesrs</th>\n",
       "      <th>Viwes</th>\n",
       "      <th>Total_videos</th>\n",
       "      <th>Charnnel_ID</th>\n",
       "      <th>Playlist_ID</th>\n",
       "    </tr>\n",
       "  </thead>\n",
       "  <tbody>\n",
       "    <tr>\n",
       "      <th>0</th>\n",
       "      <td>Clube do Valor</td>\n",
       "      <td>1040000</td>\n",
       "      <td>54831965</td>\n",
       "      <td>1594</td>\n",
       "      <td>UCnBNoed6NaPlpL8blj1yy8Q</td>\n",
       "      <td>UUnBNoed6NaPlpL8blj1yy8Q</td>\n",
       "    </tr>\n",
       "    <tr>\n",
       "      <th>1</th>\n",
       "      <td>Me Poupe!</td>\n",
       "      <td>7570000</td>\n",
       "      <td>547282805</td>\n",
       "      <td>1467</td>\n",
       "      <td>UC8mDF5mWNGE-Kpfcvnn0bUg</td>\n",
       "      <td>UU8mDF5mWNGE-Kpfcvnn0bUg</td>\n",
       "    </tr>\n",
       "    <tr>\n",
       "      <th>2</th>\n",
       "      <td>Gustavo Cerbasi</td>\n",
       "      <td>1020000</td>\n",
       "      <td>38634112</td>\n",
       "      <td>857</td>\n",
       "      <td>UC_mSfchV-fgpPy-vuwML8_A</td>\n",
       "      <td>UU_mSfchV-fgpPy-vuwML8_A</td>\n",
       "    </tr>\n",
       "  </tbody>\n",
       "</table>\n",
       "</div>"
      ],
      "text/plain": [
       "     Charnnel_name Subscribesrs      Viwes Total_videos  \\\n",
       "0   Clube do Valor      1040000   54831965         1594   \n",
       "1        Me Poupe!      7570000  547282805         1467   \n",
       "2  Gustavo Cerbasi      1020000   38634112          857   \n",
       "\n",
       "                Charnnel_ID               Playlist_ID  \n",
       "0  UCnBNoed6NaPlpL8blj1yy8Q  UUnBNoed6NaPlpL8blj1yy8Q  \n",
       "1  UC8mDF5mWNGE-Kpfcvnn0bUg  UU8mDF5mWNGE-Kpfcvnn0bUg  \n",
       "2  UC_mSfchV-fgpPy-vuwML8_A  UU_mSfchV-fgpPy-vuwML8_A  "
      ]
     },
     "execution_count": 4,
     "metadata": {},
     "output_type": "execute_result"
    }
   ],
   "source": [
    "charnnel_df = charnnel_stats(youtube, charnnel_ids)\n",
    "\n",
    "charnnel_df"
   ]
  },
  {
   "cell_type": "markdown",
   "id": "f9db667a-9757-4da6-a909-1fb382e1a9c0",
   "metadata": {},
   "source": [
    "### 4. Get videos IDs"
   ]
  },
  {
   "cell_type": "code",
   "execution_count": 5,
   "id": "29afcdb4-56ff-44c5-8d3c-f841930cc8d7",
   "metadata": {},
   "outputs": [],
   "source": [
    "def get_videos_ids(youtube, playlist_id):\n",
    "    '''This function returns all IDs of videos in the playlist.'''\n",
    "    def fetch_page(playlist_id, page_token=None):\n",
    "        request = youtube.playlistItems().list(\n",
    "            part=\"snippet,contentDetails\",\n",
    "            playlistId=playlist_id,\n",
    "            maxResults=50,\n",
    "            pageToken=page_token\n",
    "        )\n",
    "        return request.execute()\n",
    "    \n",
    "    all_videos_id = []\n",
    "    response = fetch_page(playlist_id)\n",
    "    \n",
    "    while response:\n",
    "        for item in response['items']:\n",
    "            video_id = {\n",
    "                \"Channel_ID\": item['snippet']['channelId'],\n",
    "                \"Video_ID\": item['contentDetails']['videoId']\n",
    "            }\n",
    "            all_videos_id.append(video_id)\n",
    "        \n",
    "        next_page_token = response.get('nextPageToken')\n",
    "        if next_page_token:\n",
    "            response = fetch_page(playlist_id, next_page_token)\n",
    "        else:\n",
    "            break\n",
    "\n",
    "    return all_videos_id"
   ]
  },
  {
   "cell_type": "code",
   "execution_count": 6,
   "id": "3ba9c706-6cab-4600-b81a-0e08971c274d",
   "metadata": {},
   "outputs": [],
   "source": [
    "playlist_ids = list(charnnel_df['Playlist_ID'])"
   ]
  },
  {
   "cell_type": "code",
   "execution_count": 7,
   "id": "4ba27736-baa8-459d-b60c-7b8db7e4c5b3",
   "metadata": {},
   "outputs": [],
   "source": [
    "all_videos_ids = []\n",
    "\n",
    "for playlist_id in playlist_ids:\n",
    "    videos_id = get_videos_ids(youtube, playlist_id)\n",
    "    all_videos_ids.extend(videos_id)  \n",
    "\n",
    "videos_df = pd.DataFrame(all_videos_ids)"
   ]
  },
  {
   "cell_type": "code",
   "execution_count": 8,
   "id": "e16c0730-e1d6-4102-8d60-53be39352c72",
   "metadata": {},
   "outputs": [
    {
     "data": {
      "text/html": [
       "<div>\n",
       "<style scoped>\n",
       "    .dataframe tbody tr th:only-of-type {\n",
       "        vertical-align: middle;\n",
       "    }\n",
       "\n",
       "    .dataframe tbody tr th {\n",
       "        vertical-align: top;\n",
       "    }\n",
       "\n",
       "    .dataframe thead th {\n",
       "        text-align: right;\n",
       "    }\n",
       "</style>\n",
       "<table border=\"1\" class=\"dataframe\">\n",
       "  <thead>\n",
       "    <tr style=\"text-align: right;\">\n",
       "      <th></th>\n",
       "      <th>Channel_ID</th>\n",
       "      <th>Video_ID</th>\n",
       "    </tr>\n",
       "  </thead>\n",
       "  <tbody>\n",
       "    <tr>\n",
       "      <th>0</th>\n",
       "      <td>UCnBNoed6NaPlpL8blj1yy8Q</td>\n",
       "      <td>4ZpZ1Gf6oFE</td>\n",
       "    </tr>\n",
       "    <tr>\n",
       "      <th>1</th>\n",
       "      <td>UCnBNoed6NaPlpL8blj1yy8Q</td>\n",
       "      <td>-cPblHGriXk</td>\n",
       "    </tr>\n",
       "    <tr>\n",
       "      <th>2</th>\n",
       "      <td>UCnBNoed6NaPlpL8blj1yy8Q</td>\n",
       "      <td>HDTTu2w9gF8</td>\n",
       "    </tr>\n",
       "    <tr>\n",
       "      <th>3</th>\n",
       "      <td>UCnBNoed6NaPlpL8blj1yy8Q</td>\n",
       "      <td>XCNPfH1Vq5Q</td>\n",
       "    </tr>\n",
       "    <tr>\n",
       "      <th>4</th>\n",
       "      <td>UCnBNoed6NaPlpL8blj1yy8Q</td>\n",
       "      <td>EXgttl5MAzs</td>\n",
       "    </tr>\n",
       "  </tbody>\n",
       "</table>\n",
       "</div>"
      ],
      "text/plain": [
       "                 Channel_ID     Video_ID\n",
       "0  UCnBNoed6NaPlpL8blj1yy8Q  4ZpZ1Gf6oFE\n",
       "1  UCnBNoed6NaPlpL8blj1yy8Q  -cPblHGriXk\n",
       "2  UCnBNoed6NaPlpL8blj1yy8Q  HDTTu2w9gF8\n",
       "3  UCnBNoed6NaPlpL8blj1yy8Q  XCNPfH1Vq5Q\n",
       "4  UCnBNoed6NaPlpL8blj1yy8Q  EXgttl5MAzs"
      ]
     },
     "execution_count": 8,
     "metadata": {},
     "output_type": "execute_result"
    }
   ],
   "source": [
    "videos_df.head()"
   ]
  },
  {
   "cell_type": "markdown",
   "id": "13afdbbc-dfbe-404b-9b00-2f1df2216799",
   "metadata": {},
   "source": [
    "### 5. Get videos Statistics"
   ]
  },
  {
   "cell_type": "code",
   "execution_count": 9,
   "id": "37406e47-096b-4732-9deb-64c926063442",
   "metadata": {},
   "outputs": [
    {
     "data": {
      "text/plain": [
       "5"
      ]
     },
     "execution_count": 9,
     "metadata": {},
     "output_type": "execute_result"
    }
   ],
   "source": [
    "videos_ids = list(videos_df['Video_ID'][:5])\n",
    "\n",
    "len(videos_ids)"
   ]
  },
  {
   "cell_type": "code",
   "execution_count": 10,
   "id": "430faaad-0719-4d79-952d-c1d264230f69",
   "metadata": {},
   "outputs": [],
   "source": [
    "def get_video_detail(youtube, video_ids):\n",
    "    \n",
    "    all_video_info = []\n",
    "\n",
    "    for i in range(0, len(video_ids), 50):\n",
    "        request = youtube.videos().list(\n",
    "            part='snippet,contentDetails,statistics',\n",
    "            id= ','.join(videos_ids[i:i+50])\n",
    "        )\n",
    "        response = request.execute()\n",
    "    \n",
    "        for video in response['items']:\n",
    "            stats_to_keep = {'snippet': ['channelId', 'channelTitle','title', 'publishedAt'],\n",
    "                             'statistics': ['viewCount', 'likeCount', 'favoriteCount','commentCount'],\n",
    "                             'contentDetails': ['duration', 'caption']   \n",
    "                            }\n",
    "            video_info = {}\n",
    "            video_info['video_id'] = video['id']\n",
    "            \n",
    "            for k in stats_to_keep.keys():\n",
    "                for v in stats_to_keep[k]:\n",
    "                    try:\n",
    "                        video_info[v] = video[k][v]\n",
    "                    except:\n",
    "                        video_info[v] = None\n",
    "    \n",
    "            all_video_info.append(video_info)\n",
    "\n",
    "    return pd.DataFrame(all_video_info)"
   ]
  },
  {
   "cell_type": "code",
   "execution_count": 11,
   "id": "5ae331ca-70a9-4667-b4e9-c7ff8692ea69",
   "metadata": {},
   "outputs": [],
   "source": [
    "video_info_df = get_video_detail(youtube, videos_ids)"
   ]
  },
  {
   "cell_type": "code",
   "execution_count": 12,
   "id": "78169b55-1479-4798-b772-79bf77515d9a",
   "metadata": {},
   "outputs": [
    {
     "data": {
      "text/html": [
       "<div>\n",
       "<style scoped>\n",
       "    .dataframe tbody tr th:only-of-type {\n",
       "        vertical-align: middle;\n",
       "    }\n",
       "\n",
       "    .dataframe tbody tr th {\n",
       "        vertical-align: top;\n",
       "    }\n",
       "\n",
       "    .dataframe thead th {\n",
       "        text-align: right;\n",
       "    }\n",
       "</style>\n",
       "<table border=\"1\" class=\"dataframe\">\n",
       "  <thead>\n",
       "    <tr style=\"text-align: right;\">\n",
       "      <th></th>\n",
       "      <th>video_id</th>\n",
       "      <th>channelId</th>\n",
       "      <th>channelTitle</th>\n",
       "      <th>title</th>\n",
       "      <th>publishedAt</th>\n",
       "      <th>viewCount</th>\n",
       "      <th>likeCount</th>\n",
       "      <th>favoriteCount</th>\n",
       "      <th>commentCount</th>\n",
       "      <th>duration</th>\n",
       "      <th>caption</th>\n",
       "    </tr>\n",
       "  </thead>\n",
       "  <tbody>\n",
       "    <tr>\n",
       "      <th>0</th>\n",
       "      <td>4ZpZ1Gf6oFE</td>\n",
       "      <td>UCnBNoed6NaPlpL8blj1yy8Q</td>\n",
       "      <td>Clube do Valor</td>\n",
       "      <td>ELE PERDEU TUDO INVESTINDO (NÃO COMETA ESSE ERRO)</td>\n",
       "      <td>2024-06-10T15:00:03Z</td>\n",
       "      <td>4486</td>\n",
       "      <td>570</td>\n",
       "      <td>0</td>\n",
       "      <td>20</td>\n",
       "      <td>PT12M22S</td>\n",
       "      <td>false</td>\n",
       "    </tr>\n",
       "    <tr>\n",
       "      <th>1</th>\n",
       "      <td>-cPblHGriXk</td>\n",
       "      <td>UCnBNoed6NaPlpL8blj1yy8Q</td>\n",
       "      <td>Clube do Valor</td>\n",
       "      <td>5 PASSOS PARA ATINGIR A LIBERDADE FINANCEIRA M...</td>\n",
       "      <td>2024-06-09T15:00:00Z</td>\n",
       "      <td>6040</td>\n",
       "      <td>462</td>\n",
       "      <td>0</td>\n",
       "      <td>15</td>\n",
       "      <td>PT17M24S</td>\n",
       "      <td>false</td>\n",
       "    </tr>\n",
       "    <tr>\n",
       "      <th>2</th>\n",
       "      <td>HDTTu2w9gF8</td>\n",
       "      <td>UCnBNoed6NaPlpL8blj1yy8Q</td>\n",
       "      <td>Clube do Valor</td>\n",
       "      <td>AÇÕES ORDINÁRIAS, PREFERENCIAIS e UNITS: Qual ...</td>\n",
       "      <td>2024-06-08T15:00:16Z</td>\n",
       "      <td>5052</td>\n",
       "      <td>432</td>\n",
       "      <td>0</td>\n",
       "      <td>13</td>\n",
       "      <td>PT10M5S</td>\n",
       "      <td>false</td>\n",
       "    </tr>\n",
       "    <tr>\n",
       "      <th>3</th>\n",
       "      <td>XCNPfH1Vq5Q</td>\n",
       "      <td>UCnBNoed6NaPlpL8blj1yy8Q</td>\n",
       "      <td>Clube do Valor</td>\n",
       "      <td>POR QUE VOCÊ NÃO DEVE INVESTIR NO EXTERIOR?</td>\n",
       "      <td>2024-06-07T15:00:36Z</td>\n",
       "      <td>23943</td>\n",
       "      <td>1986</td>\n",
       "      <td>0</td>\n",
       "      <td>171</td>\n",
       "      <td>PT10M52S</td>\n",
       "      <td>false</td>\n",
       "    </tr>\n",
       "    <tr>\n",
       "      <th>4</th>\n",
       "      <td>EXgttl5MAzs</td>\n",
       "      <td>UCnBNoed6NaPlpL8blj1yy8Q</td>\n",
       "      <td>Clube do Valor</td>\n",
       "      <td>COMPROVADO: QUANTO INVESTIR PARA VIVER DE REND...</td>\n",
       "      <td>2024-06-06T15:00:18Z</td>\n",
       "      <td>4943</td>\n",
       "      <td>455</td>\n",
       "      <td>0</td>\n",
       "      <td>13</td>\n",
       "      <td>PT10M24S</td>\n",
       "      <td>false</td>\n",
       "    </tr>\n",
       "  </tbody>\n",
       "</table>\n",
       "</div>"
      ],
      "text/plain": [
       "      video_id                 channelId    channelTitle  \\\n",
       "0  4ZpZ1Gf6oFE  UCnBNoed6NaPlpL8blj1yy8Q  Clube do Valor   \n",
       "1  -cPblHGriXk  UCnBNoed6NaPlpL8blj1yy8Q  Clube do Valor   \n",
       "2  HDTTu2w9gF8  UCnBNoed6NaPlpL8blj1yy8Q  Clube do Valor   \n",
       "3  XCNPfH1Vq5Q  UCnBNoed6NaPlpL8blj1yy8Q  Clube do Valor   \n",
       "4  EXgttl5MAzs  UCnBNoed6NaPlpL8blj1yy8Q  Clube do Valor   \n",
       "\n",
       "                                               title           publishedAt  \\\n",
       "0  ELE PERDEU TUDO INVESTINDO (NÃO COMETA ESSE ERRO)  2024-06-10T15:00:03Z   \n",
       "1  5 PASSOS PARA ATINGIR A LIBERDADE FINANCEIRA M...  2024-06-09T15:00:00Z   \n",
       "2  AÇÕES ORDINÁRIAS, PREFERENCIAIS e UNITS: Qual ...  2024-06-08T15:00:16Z   \n",
       "3        POR QUE VOCÊ NÃO DEVE INVESTIR NO EXTERIOR?  2024-06-07T15:00:36Z   \n",
       "4  COMPROVADO: QUANTO INVESTIR PARA VIVER DE REND...  2024-06-06T15:00:18Z   \n",
       "\n",
       "  viewCount likeCount favoriteCount commentCount  duration caption  \n",
       "0      4486       570             0           20  PT12M22S   false  \n",
       "1      6040       462             0           15  PT17M24S   false  \n",
       "2      5052       432             0           13   PT10M5S   false  \n",
       "3     23943      1986             0          171  PT10M52S   false  \n",
       "4      4943       455             0           13  PT10M24S   false  "
      ]
     },
     "execution_count": 12,
     "metadata": {},
     "output_type": "execute_result"
    }
   ],
   "source": [
    "video_info_df.head()"
   ]
  },
  {
   "cell_type": "markdown",
   "id": "b6093818-fc6f-4dff-aa40-92ce50efb8af",
   "metadata": {},
   "source": [
    "### 6. Exploratory Data Analisys"
   ]
  },
  {
   "cell_type": "code",
   "execution_count": null,
   "id": "f841ca33-3a9b-40c6-b165-dbd34444e665",
   "metadata": {},
   "outputs": [],
   "source": []
  },
  {
   "cell_type": "code",
   "execution_count": null,
   "id": "f2f69511-2c78-451f-ac50-5f2463cb060e",
   "metadata": {},
   "outputs": [],
   "source": []
  },
  {
   "cell_type": "code",
   "execution_count": null,
   "id": "7b026f61-538e-402f-a752-1cab81143e3e",
   "metadata": {},
   "outputs": [],
   "source": []
  }
 ],
 "metadata": {
  "kernelspec": {
   "display_name": "Python 3 (ipykernel)",
   "language": "python",
   "name": "python3"
  },
  "language_info": {
   "codemirror_mode": {
    "name": "ipython",
    "version": 3
   },
   "file_extension": ".py",
   "mimetype": "text/x-python",
   "name": "python",
   "nbconvert_exporter": "python",
   "pygments_lexer": "ipython3",
   "version": "3.11.7"
  }
 },
 "nbformat": 4,
 "nbformat_minor": 5
}
